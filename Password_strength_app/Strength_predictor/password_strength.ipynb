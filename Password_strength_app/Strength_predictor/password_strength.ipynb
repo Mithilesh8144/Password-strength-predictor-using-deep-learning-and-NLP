{
 "cells": [
  {
   "cell_type": "code",
   "execution_count": 4,
   "metadata": {},
   "outputs": [],
   "source": [
    "import pandas as pd\n",
    "import numpy as np\n",
    "from tensorflow.keras.utils import to_categorical\n",
    "from tensorflow.keras.preprocessing.text import Tokenizer\n",
    "from tensorflow.keras.preprocessing.sequence import pad_sequences\n",
    "from tensorflow.keras.layers import Dense, Input, GlobalMaxPooling1D\n",
    "from tensorflow.keras.layers import LSTM, Embedding\n",
    "from tensorflow.keras.models import Model\n",
    "from tensorflow.keras.layers import Bidirectional\n",
    "from tensorflow.keras.layers import Dropout"
   ]
  },
  {
   "cell_type": "markdown",
   "metadata": {},
   "source": [
    "Required Pre-processing of data"
   ]
  },
  {
   "cell_type": "code",
   "execution_count": 5,
   "metadata": {},
   "outputs": [],
   "source": [
    "data=pd.read_csv('outputlast1.csv')"
   ]
  },
  {
   "cell_type": "code",
   "execution_count": 6,
   "metadata": {},
   "outputs": [],
   "source": [
    "data.dropna(inplace=True)"
   ]
  },
  {
   "cell_type": "code",
   "execution_count": 7,
   "metadata": {},
   "outputs": [
    {
     "data": {
      "text/html": [
       "<div>\n",
       "<style scoped>\n",
       "    .dataframe tbody tr th:only-of-type {\n",
       "        vertical-align: middle;\n",
       "    }\n",
       "\n",
       "    .dataframe tbody tr th {\n",
       "        vertical-align: top;\n",
       "    }\n",
       "\n",
       "    .dataframe thead th {\n",
       "        text-align: right;\n",
       "    }\n",
       "</style>\n",
       "<table border=\"1\" class=\"dataframe\">\n",
       "  <thead>\n",
       "    <tr style=\"text-align: right;\">\n",
       "      <th></th>\n",
       "      <th>Unnamed: 0</th>\n",
       "      <th>password</th>\n",
       "      <th>strength</th>\n",
       "    </tr>\n",
       "  </thead>\n",
       "  <tbody>\n",
       "    <tr>\n",
       "      <th>771313</th>\n",
       "      <td>771313</td>\n",
       "      <td>woepie192</td>\n",
       "      <td>medium</td>\n",
       "    </tr>\n",
       "    <tr>\n",
       "      <th>771314</th>\n",
       "      <td>771314</td>\n",
       "      <td>@)o#88o/Ed8#2Zx</td>\n",
       "      <td>strong</td>\n",
       "    </tr>\n",
       "    <tr>\n",
       "      <th>771315</th>\n",
       "      <td>771315</td>\n",
       "      <td>447iyt</td>\n",
       "      <td>weak</td>\n",
       "    </tr>\n",
       "    <tr>\n",
       "      <th>771316</th>\n",
       "      <td>771316</td>\n",
       "      <td>kakashi10</td>\n",
       "      <td>medium</td>\n",
       "    </tr>\n",
       "    <tr>\n",
       "      <th>771317</th>\n",
       "      <td>771317</td>\n",
       "      <td>:E):4t/gAIv7&amp;77</td>\n",
       "      <td>strong</td>\n",
       "    </tr>\n",
       "  </tbody>\n",
       "</table>\n",
       "</div>"
      ],
      "text/plain": [
       "        Unnamed: 0         password strength\n",
       "771313      771313        woepie192   medium\n",
       "771314      771314  @)o#88o/Ed8#2Zx   strong\n",
       "771315      771315           447iyt     weak\n",
       "771316      771316        kakashi10   medium\n",
       "771317      771317  :E):4t/gAIv7&77   strong"
      ]
     },
     "execution_count": 7,
     "metadata": {},
     "output_type": "execute_result"
    }
   ],
   "source": [
    "data.tail()"
   ]
  },
  {
   "cell_type": "code",
   "execution_count": 8,
   "metadata": {},
   "outputs": [],
   "source": [
    "#datframe consists of 3 classes, strong-medium-weak, however weak||medium =  weak\n",
    "Strength_column=data['strength']\n",
    "Str=[]"
   ]
  },
  {
   "cell_type": "code",
   "execution_count": 9,
   "metadata": {},
   "outputs": [],
   "source": [
    "#return the classes \n",
    "for token in Strength_column:\n",
    "    if token == 'medium':\n",
    "        Str.append(0)\n",
    "    elif token == 'weak':\n",
    "        Str.append(0)\n",
    "    else:\n",
    "        Str.append(2)"
   ]
  },
  {
   "cell_type": "code",
   "execution_count": 10,
   "metadata": {},
   "outputs": [],
   "source": [
    "data['Y']=Str"
   ]
  },
  {
   "cell_type": "code",
   "execution_count": 11,
   "metadata": {},
   "outputs": [],
   "source": [
    "data.columns=['index','password','strength','Y']"
   ]
  },
  {
   "cell_type": "code",
   "execution_count": 12,
   "metadata": {},
   "outputs": [],
   "source": [
    "data.drop(['index'],axis=1,inplace=True)"
   ]
  },
  {
   "cell_type": "markdown",
   "metadata": {},
   "source": [
    "Since NLP requires tokenization of words and word vectors, the characters of the word are considered as tokens and are vectorized accordingly"
   ]
  },
  {
   "cell_type": "code",
   "execution_count": 13,
   "metadata": {},
   "outputs": [],
   "source": [
    "def split_letters(word):\n",
    "    return [char for char in word]"
   ]
  },
  {
   "cell_type": "code",
   "execution_count": 14,
   "metadata": {},
   "outputs": [],
   "source": [
    "data['new']=data['password'].map(lambda x: split_letters(x))"
   ]
  },
  {
   "cell_type": "code",
   "execution_count": 15,
   "metadata": {},
   "outputs": [
    {
     "data": {
      "text/plain": [
       "0                                    [m, e, h, d, i, 2, 3]\n",
       "1                     [2, s, 0, i, 0, t, f, h, c, x, r, e]\n",
       "2                                       [v, v, r, 1, 2, 3]\n",
       "3            [6, 4, 2, 2, Q, M, ), r, h, x, g, #, Q, <, 8]\n",
       "4         [t, C, x, O, Q, 0, T, Y, w, M, A, k, T, N, n, E]\n",
       "                                ...                       \n",
       "771313                         [w, o, e, p, i, e, 1, 9, 2]\n",
       "771314       [@, ), o, #, 8, 8, o, /, E, d, 8, #, 2, Z, x]\n",
       "771315                                  [4, 4, 7, i, y, t]\n",
       "771316                         [k, a, k, a, s, h, i, 1, 0]\n",
       "771317       [:, E, ), :, 4, t, /, g, A, I, v, 7, &, 7, 7]\n",
       "Name: new, Length: 770199, dtype: object"
      ]
     },
     "execution_count": 15,
     "metadata": {},
     "output_type": "execute_result"
    }
   ],
   "source": [
    "data['new']"
   ]
  },
  {
   "cell_type": "code",
   "execution_count": 16,
   "metadata": {},
   "outputs": [
    {
     "data": {
      "text/plain": [
       "0    587330\n",
       "2    182869\n",
       "Name: Y, dtype: int64"
      ]
     },
     "execution_count": 16,
     "metadata": {},
     "output_type": "execute_result"
    }
   ],
   "source": [
    "data.Y.value_counts()"
   ]
  },
  {
   "cell_type": "code",
   "execution_count": 17,
   "metadata": {},
   "outputs": [],
   "source": [
    "X=data['new']\n",
    "y=data['Y']"
   ]
  },
  {
   "cell_type": "code",
   "execution_count": 18,
   "metadata": {},
   "outputs": [],
   "source": [
    "y=to_categorical(y)"
   ]
  },
  {
   "cell_type": "code",
   "execution_count": 19,
   "metadata": {},
   "outputs": [],
   "source": [
    "from sklearn.model_selection import train_test_split"
   ]
  },
  {
   "cell_type": "code",
   "execution_count": 20,
   "metadata": {},
   "outputs": [
    {
     "data": {
      "text/plain": [
       "array([[1., 0., 0.],\n",
       "       [1., 0., 0.],\n",
       "       [1., 0., 0.],\n",
       "       ...,\n",
       "       [1., 0., 0.],\n",
       "       [1., 0., 0.],\n",
       "       [0., 0., 1.]], dtype=float32)"
      ]
     },
     "execution_count": 20,
     "metadata": {},
     "output_type": "execute_result"
    }
   ],
   "source": [
    "y"
   ]
  },
  {
   "cell_type": "code",
   "execution_count": 21,
   "metadata": {},
   "outputs": [],
   "source": [
    "X_train, X_test, y_train, y_test = train_test_split(X, y, test_size=0.33, random_state=42)\n"
   ]
  },
  {
   "cell_type": "code",
   "execution_count": 22,
   "metadata": {},
   "outputs": [],
   "source": [
    "from tensorflow.keras.preprocessing.text import Tokenizer"
   ]
  },
  {
   "cell_type": "code",
   "execution_count": 24,
   "metadata": {},
   "outputs": [],
   "source": [
    "#fit the tokenizer on the input data and tokenize the characters\n",
    "tokenizer=Tokenizer(filters='nan',split=',',lower=False)"
   ]
  },
  {
   "cell_type": "code",
   "execution_count": 25,
   "metadata": {},
   "outputs": [],
   "source": [
    "tokenizer.fit_on_texts(X)"
   ]
  },
  {
   "cell_type": "code",
   "execution_count": 28,
   "metadata": {},
   "outputs": [],
   "source": [
    "x=tokenizer.texts_to_sequences(\"@KJ@$*asdHello\")"
   ]
  },
  {
   "cell_type": "code",
   "execution_count": 30,
   "metadata": {},
   "outputs": [
    {
     "data": {
      "text/plain": [
       "[[63],\n",
       " [53],\n",
       " [54],\n",
       " [63],\n",
       " [65],\n",
       " [64],\n",
       " [],\n",
       " [12],\n",
       " [24],\n",
       " [56],\n",
       " [5],\n",
       " [21],\n",
       " [21],\n",
       " [7]]"
      ]
     },
     "execution_count": 30,
     "metadata": {},
     "output_type": "execute_result"
    }
   ],
   "source": [
    "x #characters are tokenized"
   ]
  },
  {
   "cell_type": "code",
   "execution_count": 31,
   "metadata": {},
   "outputs": [
    {
     "data": {
      "text/plain": [
       "['@', 'K', 'J', '@', '$', '*', '', 's', 'd', 'H', 'e', 'l', 'l', 'o']"
      ]
     },
     "execution_count": 31,
     "metadata": {},
     "output_type": "execute_result"
    }
   ],
   "source": [
    "tokenizer.sequences_to_texts(x) #respective character representation"
   ]
  },
  {
   "cell_type": "code",
   "execution_count": 32,
   "metadata": {},
   "outputs": [],
   "source": [
    "X_train=tokenizer.texts_to_sequences(X_train)"
   ]
  },
  {
   "cell_type": "code",
   "execution_count": 33,
   "metadata": {},
   "outputs": [],
   "source": [
    "X_test=tokenizer.texts_to_sequences(X_test)"
   ]
  },
  {
   "cell_type": "code",
   "execution_count": 35,
   "metadata": {},
   "outputs": [],
   "source": [
    "V=len(tokenizer.index_word) #keep count of the total no. of characters for the embedding layer"
   ]
  },
  {
   "cell_type": "code",
   "execution_count": 36,
   "metadata": {},
   "outputs": [],
   "source": [
    "from tensorflow.keras.preprocessing.sequence import pad_sequences"
   ]
  },
  {
   "cell_type": "code",
   "execution_count": 39,
   "metadata": {},
   "outputs": [],
   "source": [
    "X_train=pad_sequences(X_train,maxlen=15,padding=\"pre\") #optimal password must have a length of 15 and hence chosen\n",
    "X_test=pad_sequences(X_test,maxlen=15,padding='pre')"
   ]
  },
  {
   "cell_type": "code",
   "execution_count": 40,
   "metadata": {},
   "outputs": [
    {
     "data": {
      "text/plain": [
       "(516033, 15)"
      ]
     },
     "execution_count": 40,
     "metadata": {},
     "output_type": "execute_result"
    }
   ],
   "source": [
    "X_train.shape"
   ]
  },
  {
   "cell_type": "code",
   "execution_count": 42,
   "metadata": {},
   "outputs": [
    {
     "data": {
      "text/plain": [
       "{'a': 1,\n",
       " '1': 2,\n",
       " '2': 3,\n",
       " '0': 4,\n",
       " 'e': 5,\n",
       " 'i': 6,\n",
       " 'o': 7,\n",
       " '3': 8,\n",
       " '9': 9,\n",
       " 'n': 10,\n",
       " 'r': 11,\n",
       " 's': 12,\n",
       " '5': 13,\n",
       " '4': 14,\n",
       " '8': 15,\n",
       " '7': 16,\n",
       " '6': 17,\n",
       " 'u': 18,\n",
       " 'm': 19,\n",
       " 't': 20,\n",
       " 'l': 21,\n",
       " 'k': 22,\n",
       " 'y': 23,\n",
       " 'd': 24,\n",
       " 'c': 25,\n",
       " 'p': 26,\n",
       " 'g': 27,\n",
       " 'h': 28,\n",
       " 'b': 29,\n",
       " 'w': 30,\n",
       " 'j': 31,\n",
       " 'z': 32,\n",
       " 'v': 33,\n",
       " 'f': 34,\n",
       " 'x': 35,\n",
       " 'q': 36,\n",
       " 'A': 37,\n",
       " 'M': 38,\n",
       " 'N': 39,\n",
       " 'Q': 40,\n",
       " 'T': 41,\n",
       " 'D': 42,\n",
       " 'O': 43,\n",
       " 'E': 44,\n",
       " 'I': 45,\n",
       " '#': 46,\n",
       " 'Y': 47,\n",
       " 'U': 48,\n",
       " 'S': 49,\n",
       " 'R': 50,\n",
       " 'C': 51,\n",
       " 'G': 52,\n",
       " 'K': 53,\n",
       " 'J': 54,\n",
       " 'B': 55,\n",
       " 'H': 56,\n",
       " 'F': 57,\n",
       " 'W': 58,\n",
       " 'V': 59,\n",
       " 'Z': 60,\n",
       " 'X': 61,\n",
       " '.': 62,\n",
       " '@': 63,\n",
       " '*': 64,\n",
       " '$': 65,\n",
       " '/': 66,\n",
       " '?': 67,\n",
       " '&': 68,\n",
       " '(': 69,\n",
       " '%': 70,\n",
       " ')': 71,\n",
       " '|': 72,\n",
       " '>': 73,\n",
       " '<': 74,\n",
       " '~': 75,\n",
       " ':': 76,\n",
       " '=': 77,\n",
       " 'L': 78,\n",
       " 'P': 79,\n",
       " '-': 80,\n",
       " '_': 81,\n",
       " '!': 82,\n",
       " ' ': 83,\n",
       " '+': 84,\n",
       " '\\\\': 85,\n",
       " ';': 86,\n",
       " '^': 87,\n",
       " '[': 88,\n",
       " ']': 89,\n",
       " '{': 90,\n",
       " '}': 91,\n",
       " '`': 92,\n",
       " '\"': 93}"
      ]
     },
     "execution_count": 42,
     "metadata": {},
     "output_type": "execute_result"
    }
   ],
   "source": [
    "tokenizer.word_index #each character and their corresponding index"
   ]
  },
  {
   "cell_type": "code",
   "execution_count": 54,
   "metadata": {},
   "outputs": [],
   "source": [
    "import numpy as np\n"
   ]
  },
  {
   "cell_type": "code",
   "execution_count": 55,
   "metadata": {},
   "outputs": [],
   "source": [
    "X_train=np.array(X_train)\n",
    "X_test=np.array(X_test)"
   ]
  },
  {
   "cell_type": "code",
   "execution_count": 56,
   "metadata": {},
   "outputs": [],
   "source": [
    "y_test=np.array(y_test)\n",
    "y_train=np.array(y_train)"
   ]
  },
  {
   "cell_type": "code",
   "execution_count": 58,
   "metadata": {},
   "outputs": [],
   "source": [
    "#CREATE MODEL LSTM, WITH EACH LETTER VECTORIZED IN SHAPE (16,)\n",
    "i = Input(shape=X_test[0].shape)\n",
    "x = Embedding(V+1, 16, input_length=15, mask_zero=True)(i)\n",
    "x = Dropout(0.3)(x)\n",
    "x = LSTM(64, return_sequences=True)(x)\n",
    "x = GlobalMaxPooling1D()(x)\n",
    "x = Dropout(0.3)(x)\n",
    "x = Dense(3, activation='softmax')(x)\n",
    "\n",
    "model1 = Model(i, x)\n"
   ]
  },
  {
   "cell_type": "code",
   "execution_count": 59,
   "metadata": {},
   "outputs": [
    {
     "name": "stdout",
     "output_type": "stream",
     "text": [
      "Model: \"model\"\n",
      "_________________________________________________________________\n",
      "Layer (type)                 Output Shape              Param #   \n",
      "=================================================================\n",
      "input_1 (InputLayer)         [(None, 15)]              0         \n",
      "_________________________________________________________________\n",
      "embedding (Embedding)        (None, 15, 16)            1504      \n",
      "_________________________________________________________________\n",
      "dropout (Dropout)            (None, 15, 16)            0         \n",
      "_________________________________________________________________\n",
      "lstm (LSTM)                  (None, 15, 64)            20736     \n",
      "_________________________________________________________________\n",
      "global_max_pooling1d (Global (None, 64)                0         \n",
      "_________________________________________________________________\n",
      "dropout_1 (Dropout)          (None, 64)                0         \n",
      "_________________________________________________________________\n",
      "dense (Dense)                (None, 3)                 195       \n",
      "=================================================================\n",
      "Total params: 22,435\n",
      "Trainable params: 22,435\n",
      "Non-trainable params: 0\n",
      "_________________________________________________________________\n"
     ]
    }
   ],
   "source": [
    "model1.summary()"
   ]
  },
  {
   "cell_type": "code",
   "execution_count": 60,
   "metadata": {},
   "outputs": [],
   "source": [
    "model1.compile(\n",
    "  loss='categorical_crossentropy',\n",
    "  optimizer='adam',\n",
    "  metrics=['accuracy']\n",
    ")"
   ]
  },
  {
   "cell_type": "code",
   "execution_count": 61,
   "metadata": {},
   "outputs": [
    {
     "name": "stdout",
     "output_type": "stream",
     "text": [
      "Epoch 1/3\n",
      "25802/25802 [==============================] - 1045s 40ms/step - loss: 0.0327 - accuracy: 0.9909 - val_loss: 0.0015 - val_accuracy: 0.9997\n",
      "Epoch 2/3\n",
      "25802/25802 [==============================] - 1049s 41ms/step - loss: 0.0034 - accuracy: 0.9992 - val_loss: 0.0012 - val_accuracy: 0.9999\n",
      "Epoch 3/3\n",
      "25802/25802 [==============================] - 1006s 39ms/step - loss: 0.0023 - accuracy: 0.9996 - val_loss: 0.0013 - val_accuracy: 0.9999\n"
     ]
    }
   ],
   "source": [
    "history=model1.fit(X_train,y_train,epochs=3,validation_split=0.2,verbose=1,batch_size=16)"
   ]
  },
  {
   "cell_type": "code",
   "execution_count": 63,
   "metadata": {},
   "outputs": [
    {
     "data": {
      "text/plain": [
       "<matplotlib.legend.Legend at 0x7f17f005c8e0>"
      ]
     },
     "execution_count": 63,
     "metadata": {},
     "output_type": "execute_result"
    },
    {
     "data": {
      "image/png": "[encoded data removed]",
      "text/plain": [
       "<Figure size 432x288 with 1 Axes>"
      ]
     },
     "metadata": {
      "needs_background": "light"
     },
     "output_type": "display_data"
    }
   ],
   "source": [
    "import matplotlib.pyplot as plt\n",
    "plt.plot(history.history['loss'], label='loss')\n",
    "plt.plot(history.history['val_loss'], label='val_loss')\n",
    "plt.legend()"
   ]
  },
  {
   "cell_type": "code",
   "execution_count": 64,
   "metadata": {},
   "outputs": [
    {
     "data": {
      "text/plain": [
       "<matplotlib.legend.Legend at 0x7f1778233490>"
      ]
     },
     "execution_count": 64,
     "metadata": {},
     "output_type": "execute_result"
    },
    {
     "data": {
      "image/png": "[encoded data removed]",
      "text/plain": [
       "<Figure size 432x288 with 1 Axes>"
      ]
     },
     "metadata": {
      "needs_background": "light"
     },
     "output_type": "display_data"
    }
   ],
   "source": [
    "plt.plot(history.history['accuracy'], label='acc')\n",
    "plt.plot(history.history['val_accuracy'], label='val_acc')\n",
    "plt.legend()"
   ]
  },
  {
   "cell_type": "code",
   "execution_count": 65,
   "metadata": {},
   "outputs": [],
   "source": [
    "predicts=model1.predict(X_test,batch_size=10,verbose=0)"
   ]
  },
  {
   "cell_type": "code",
   "execution_count": 66,
   "metadata": {},
   "outputs": [],
   "source": [
    "newp=np.argmax(predicts,axis=1)"
   ]
  },
  {
   "cell_type": "code",
   "execution_count": 67,
   "metadata": {},
   "outputs": [],
   "source": [
    "newy=np.argmax(y_test,axis=1)"
   ]
  },
  {
   "cell_type": "code",
   "execution_count": 68,
   "metadata": {},
   "outputs": [],
   "source": [
    "from sklearn.metrics import accuracy_score"
   ]
  },
  {
   "cell_type": "code",
   "execution_count": 69,
   "metadata": {},
   "outputs": [
    {
     "data": {
      "text/plain": [
       "0.999874098030421"
      ]
     },
     "execution_count": 69,
     "metadata": {},
     "output_type": "execute_result"
    }
   ],
   "source": [
    "accuracy_score(newp,newy)"
   ]
  },
  {
   "cell_type": "markdown",
   "metadata": {},
   "source": [
    "CALL below function to check strength of password:"
   ]
  },
  {
   "cell_type": "code",
   "execution_count": 48,
   "metadata": {},
   "outputs": [],
   "source": [
    "index=tokenizer2.word_index\n",
    "def predictor(word):\n",
    "    l=split_letters(word)\n",
    "    m=[]\n",
    "    for letter in l:\n",
    "        m.append(index[letter])\n",
    "    m=np.array(m)\n",
    "    m=np.reshape(m,(1,-1))\n",
    " \n",
    "    l=pad_sequences(m,maxlen=15,padding='pre')\n",
    "    k=model.predict(l)\n",
    "    p=np.argmax(k,axis=1)\n",
    "    if p[0]==0:\n",
    "        return 'weak'\n",
    "    elif p[0]==1:\n",
    "        return 'weak'\n",
    "    else:\n",
    "        return 'strong'"
   ]
  },
  {
   "cell_type": "code",
   "execution_count": 59,
   "metadata": {},
   "outputs": [],
   "source": [
    "password='34&!23332@$!1#'\n",
    "output=predictor(password)"
   ]
  },
  {
   "cell_type": "code",
   "execution_count": 60,
   "metadata": {},
   "outputs": [
    {
     "data": {
      "text/plain": [
       "'strong'"
      ]
     },
     "execution_count": 60,
     "metadata": {},
     "output_type": "execute_result"
    }
   ],
   "source": [
    "output #the model identifies that a longer length is required for a stronger password"
   ]
  },
  {
   "cell_type": "code",
   "execution_count": 61,
   "metadata": {},
   "outputs": [],
   "source": [
    "password='34&!@$!1#'\n",
    "output=predictor(password)"
   ]
  },
  {
   "cell_type": "code",
   "execution_count": 63,
   "metadata": {},
   "outputs": [
    {
     "data": {
      "text/plain": [
       "'weak'"
      ]
     },
     "execution_count": 63,
     "metadata": {},
     "output_type": "execute_result"
    }
   ],
   "source": [
    "output #the model gives a weak output although the characters are random due to the lesser length"
   ]
  },
  {
   "cell_type": "code",
   "execution_count": null,
   "metadata": {},
   "outputs": [],
   "source": [
    "model1.save('PASSWORD_STRENGTH2.h5')"
   ]
  },
  {
   "cell_type": "code",
   "execution_count": 45,
   "metadata": {},
   "outputs": [],
   "source": [
    "import pickle\n",
    "import numpy as np\n",
    "from tensorflow.keras.models import load_model"
   ]
  },
  {
   "cell_type": "code",
   "execution_count": 99,
   "metadata": {},
   "outputs": [],
   "source": [
    "import pickle\n",
    "# saving\n",
    "with open('lstm_passwrd2.pickle', 'wb') as handle:\n",
    "    pickle.dump(tokenizer, handle, protocol=pickle.HIGHEST_PROTOCOL)"
   ]
  },
  {
   "cell_type": "code",
   "execution_count": 46,
   "metadata": {},
   "outputs": [],
   "source": [
    "\n",
    "# loading\n",
    "with open('lstm_passwrd2.pickle', 'rb') as handle:\n",
    "    tokenizer2 = pickle.load(handle)"
   ]
  },
  {
   "cell_type": "code",
   "execution_count": 47,
   "metadata": {},
   "outputs": [],
   "source": [
    "model=load_model('PASSWORD_STRENGTH2.h5')"
   ]
  },
  {
   "cell_type": "code",
   "execution_count": null,
   "metadata": {},
   "outputs": [],
   "source": []
  }
 ],
 "metadata": {
  "kernelspec": {
   "display_name": "Python [conda env:tensorflow] *",
   "language": "python",
   "name": "conda-env-tensorflow-py"
  },
  "language_info": {
   "codemirror_mode": {
    "name": "ipython",
    "version": 3
   },
   "file_extension": ".py",
   "mimetype": "text/x-python",
   "name": "python",
   "nbconvert_exporter": "python",
   "pygments_lexer": "ipython3",
   "version": "3.8.8"
  }
 },
 "nbformat": 4,
 "nbformat_minor": 4
}
